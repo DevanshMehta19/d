{
 "cells": [
  {
   "cell_type": "markdown",
   "id": "f53aff41",
   "metadata": {},
   "source": [
    "## NAME-DEVANSH MEHTA\n",
    "## ID- 202318053\n",
    "## BD ASSIGNMENT 1"
   ]
  },
  {
   "cell_type": "markdown",
   "id": "9a9244d5",
   "metadata": {},
   "source": [
    "## TASK B"
   ]
  },
  {
   "cell_type": "code",
   "execution_count": 8,
   "id": "0d0f82e2",
   "metadata": {},
   "outputs": [
    {
     "name": "stdout",
     "output_type": "stream",
     "text": [
      "{'location': {'code': 'DE0001020', 'name': 'Berlin', 'timezone': 'Europe/Berlin', 'coordinates': {'latitude': 52.5244, 'longitude': 13.4105}}, 'forecast': {'items': [{'date': '2024-01-31', 'dateWithTimezone': '2024-01-30T23:00:00Z', 'freshSnow': 0, 'snowHeight': None, 'weather': {'state': 2, 'text': 'wolkig', 'icon': 'n_2.svg'}, 'prec': {'sum': 0, 'probability': 35, 'sumAsRain': None, 'class': 0}, 'sunHours': 1, 'rainHours': None, 'temperature': {'min': 4, 'max': 7, 'avg': None}, 'wind': {'unit': 'km/h', 'direction': 'Westwind', 'text': 'W', 'avg': None, 'min': 8, 'max': 15, 'gusts': {'value': 34, 'text': None}, 'significationWind': False}, 'windchill': {'min': 1, 'max': 4, 'avg': None}, 'snowLine': {'avg': None, 'min': None, 'max': None, 'unit': 'm'}, 'astronomy': {'dawn': '2024-01-31T07:13:10+01:00', 'sunrise': '2024-01-31T07:50:31+01:00', 'suntransit': '2024-01-31T12:19:43+01:00', 'sunset': '2024-01-31T16:49:33+01:00', 'dusk': '2024-01-31T17:26:56+01:00', 'moonrise': '2024-01-31T23:13:07+01:00', 'moontransit': '2024-01-31T04:03:11+01:00', 'moonset': '2024-01-31T09:49:12+01:00', 'moonphase': 6, 'moonzodiac': 7}}, {'date': '2024-02-01', 'dateWithTimezone': '2024-01-31T23:00:00Z', 'freshSnow': 0, 'snowHeight': None, 'weather': {'state': 2, 'text': 'wolkig', 'icon': 'd_2.svg'}, 'prec': {'sum': 0.3, 'probability': 90, 'sumAsRain': None, 'class': 1}, 'sunHours': 3, 'rainHours': None, 'temperature': {'min': 4, 'max': 7, 'avg': None}, 'wind': {'unit': 'km/h', 'direction': 'Westwind', 'text': 'W', 'avg': None, 'min': 14, 'max': 23, 'gusts': {'value': 55, 'text': None}, 'significationWind': True}, 'windchill': {'min': 1, 'max': 4, 'avg': None}, 'snowLine': {'avg': None, 'min': None, 'max': None, 'unit': 'm'}, 'astronomy': {'dawn': '2024-02-01T07:11:45+01:00', 'sunrise': '2024-02-01T07:48:57+01:00', 'suntransit': '2024-02-01T12:19:52+01:00', 'sunset': '2024-02-01T16:51:26+01:00', 'dusk': '2024-02-01T17:28:40+01:00', 'moonrise': None, 'moontransit': '2024-02-01T04:42:46+01:00', 'moonset': '2024-02-01T09:58:23+01:00', 'moonphase': 6, 'moonzodiac': 7}}, {'date': '2024-02-02', 'dateWithTimezone': '2024-02-01T23:00:00Z', 'freshSnow': 0, 'snowHeight': None, 'weather': {'state': 61, 'text': 'leichter Regen', 'icon': 'd_61.svg'}, 'prec': {'sum': 1.7, 'probability': 90, 'sumAsRain': None, 'class': 1}, 'sunHours': 0, 'rainHours': None, 'temperature': {'min': 4, 'max': 8, 'avg': None}, 'wind': {'unit': 'km/h', 'direction': 'Südwestwind', 'text': 'SW', 'avg': None, 'min': 12, 'max': 19, 'gusts': {'value': 43, 'text': None}, 'significationWind': True}, 'windchill': {'min': 0, 'max': 5, 'avg': None}, 'snowLine': {'avg': None, 'min': None, 'max': None, 'unit': 'm'}, 'astronomy': {'dawn': '2024-02-02T07:10:17+01:00', 'sunrise': '2024-02-02T07:47:20+01:00', 'suntransit': '2024-02-02T12:20:00+01:00', 'sunset': '2024-02-02T16:53:18+01:00', 'dusk': '2024-02-02T17:30:24+01:00', 'moonrise': '2024-02-02T00:26:46+01:00', 'moontransit': '2024-02-02T05:24:18+01:00', 'moonset': '2024-02-02T10:09:17+01:00', 'moonphase': 7, 'moonzodiac': 8}}, {'date': '2024-02-03', 'dateWithTimezone': '2024-02-02T23:00:00Z', 'freshSnow': 0, 'snowHeight': None, 'weather': {'state': 61, 'text': 'leichter Regen', 'icon': 'd_61.svg'}, 'prec': {'sum': 1.86, 'probability': 90, 'sumAsRain': None, 'class': 1}, 'sunHours': 0, 'rainHours': None, 'temperature': {'min': 9, 'max': 10, 'avg': None}, 'wind': {'unit': 'km/h', 'direction': 'Westwind', 'text': 'W', 'avg': None, 'min': 16, 'max': 22, 'gusts': {'value': 49, 'text': None}, 'significationWind': True}, 'windchill': {'min': 6, 'max': 8, 'avg': None}, 'snowLine': {'avg': None, 'min': None, 'max': None, 'unit': 'm'}, 'astronomy': {'dawn': '2024-02-03T07:08:46+01:00', 'sunrise': '2024-02-03T07:45:42+01:00', 'suntransit': '2024-02-03T12:20:06+01:00', 'sunset': '2024-02-03T16:55:12+01:00', 'dusk': '2024-02-03T17:32:09+01:00', 'moonrise': '2024-02-03T01:43:32+01:00', 'moontransit': '2024-02-03T06:09:02+01:00', 'moonset': '2024-02-03T10:23:26+01:00', 'moonphase': 7, 'moonzodiac': 8}}, {'date': '2024-02-04', 'dateWithTimezone': '2024-02-03T23:00:00Z', 'freshSnow': 0, 'snowHeight': None, 'weather': {'state': 3, 'text': 'bedeckt', 'icon': 'd_3.svg'}, 'prec': {'sum': 0.76, 'probability': 90, 'sumAsRain': None, 'class': 1}, 'sunHours': 0, 'rainHours': None, 'temperature': {'min': 7, 'max': 10, 'avg': None}, 'wind': {'unit': 'km/h', 'direction': 'Westwind', 'text': 'W', 'avg': None, 'min': 18, 'max': 24, 'gusts': {'value': 54, 'text': None}, 'significationWind': True}, 'windchill': {'min': 3, 'max': 7, 'avg': None}, 'snowLine': {'avg': None, 'min': None, 'max': None, 'unit': 'm'}, 'astronomy': {'dawn': '2024-02-04T07:07:14+01:00', 'sunrise': '2024-02-04T07:44:01+01:00', 'suntransit': '2024-02-04T12:20:13+01:00', 'sunset': '2024-02-04T16:57:05+01:00', 'dusk': '2024-02-04T17:33:54+01:00', 'moonrise': '2024-02-04T03:03:45+01:00', 'moontransit': '2024-02-04T06:58:05+01:00', 'moonset': '2024-02-04T10:43:21+01:00', 'moonphase': 7, 'moonzodiac': 8}}, {'date': '2024-02-05', 'dateWithTimezone': '2024-02-04T23:00:00Z', 'freshSnow': 0, 'snowHeight': None, 'weather': {'state': 61, 'text': 'leichter Regen', 'icon': 'd_61.svg'}, 'prec': {'sum': 8.77, 'probability': 90, 'sumAsRain': None, 'class': 2}, 'sunHours': 0, 'rainHours': None, 'temperature': {'min': 7, 'max': 10, 'avg': None}, 'wind': {'unit': 'km/h', 'direction': 'Westwind', 'text': 'W', 'avg': None, 'min': 20, 'max': 27, 'gusts': {'value': 62, 'text': None}, 'significationWind': True}, 'windchill': {'min': 3, 'max': 7, 'avg': None}, 'snowLine': {'avg': None, 'min': None, 'max': None, 'unit': 'm'}, 'astronomy': {'dawn': '2024-02-05T07:05:40+01:00', 'sunrise': '2024-02-05T07:42:19+01:00', 'suntransit': '2024-02-05T12:20:18+01:00', 'sunset': '2024-02-05T16:58:59+01:00', 'dusk': '2024-02-05T17:35:40+01:00', 'moonrise': '2024-02-05T04:24:58+01:00', 'moontransit': '2024-02-05T07:52:12+01:00', 'moonset': '2024-02-05T11:13:18+01:00', 'moonphase': 8, 'moonzodiac': 9}}, {'date': '2024-02-06', 'dateWithTimezone': '2024-02-05T23:00:00Z', 'freshSnow': 0, 'snowHeight': None, 'weather': {'state': 61, 'text': 'leichter Regen', 'icon': 'd_61.svg'}, 'prec': {'sum': 3.5, 'probability': 90, 'sumAsRain': None, 'class': 1}, 'sunHours': 0, 'rainHours': None, 'temperature': {'min': 6, 'max': 8, 'avg': None}, 'wind': {'unit': 'km/h', 'direction': 'Westwind', 'text': 'W', 'avg': None, 'min': 17, 'max': 20, 'gusts': {'value': 43, 'text': None}, 'significationWind': True}, 'windchill': {'min': 2, 'max': 5, 'avg': None}, 'snowLine': {'avg': None, 'min': None, 'max': None, 'unit': 'm'}, 'astronomy': {'dawn': '2024-02-06T07:04:04+01:00', 'sunrise': '2024-02-06T07:40:35+01:00', 'suntransit': '2024-02-06T12:20:23+01:00', 'sunset': '2024-02-06T17:00:53+01:00', 'dusk': '2024-02-06T17:37:26+01:00', 'moonrise': '2024-02-06T05:40:51+01:00', 'moontransit': '2024-02-06T08:51:12+01:00', 'moonset': '2024-02-06T11:59:20+01:00', 'moonphase': 8, 'moonzodiac': 9}}, {'date': '2024-02-07', 'dateWithTimezone': '2024-02-06T23:00:00Z', 'freshSnow': 0, 'snowHeight': None, 'weather': {'state': 61, 'text': 'leichter Regen', 'icon': 'd_61.svg'}, 'prec': {'sum': 6.2, 'probability': 90, 'sumAsRain': None, 'class': 2}, 'sunHours': 0, 'rainHours': None, 'temperature': {'min': 6, 'max': 8, 'avg': None}, 'wind': {'unit': 'km/h', 'direction': 'Westwind', 'text': 'W', 'avg': None, 'min': 17, 'max': 19, 'gusts': {'value': 39, 'text': None}, 'significationWind': False}, 'windchill': {'min': 2, 'max': 5, 'avg': None}, 'snowLine': {'avg': None, 'min': None, 'max': None, 'unit': 'm'}, 'astronomy': {'dawn': '2024-02-07T07:02:26+01:00', 'sunrise': '2024-02-07T07:38:49+01:00', 'suntransit': '2024-02-07T12:20:26+01:00', 'sunset': '2024-02-07T17:02:47+01:00', 'dusk': '2024-02-07T17:39:12+01:00', 'moonrise': '2024-02-07T06:43:06+01:00', 'moontransit': '2024-02-07T09:53:33+01:00', 'moonset': '2024-02-07T13:06:34+01:00', 'moonphase': 8, 'moonzodiac': 10}}, {'date': '2024-02-08', 'dateWithTimezone': '2024-02-07T23:00:00Z', 'freshSnow': 0, 'snowHeight': None, 'weather': {'state': 6, 'text': 'Regen', 'icon': 'd_6.svg'}, 'prec': {'sum': 1.9, 'probability': 90, 'sumAsRain': None, 'class': 1}, 'sunHours': 1, 'rainHours': None, 'temperature': {'min': 4, 'max': 6, 'avg': None}, 'wind': {'unit': 'km/h', 'direction': 'Südwestwind', 'text': 'SW', 'avg': None, 'min': 17, 'max': 19, 'gusts': {'value': 35, 'text': None}, 'significationWind': False}, 'windchill': {'min': 0, 'max': 3, 'avg': None}, 'snowLine': {'avg': None, 'min': None, 'max': None, 'unit': 'm'}, 'astronomy': {'dawn': '2024-02-08T07:00:46+01:00', 'sunrise': '2024-02-08T07:37:01+01:00', 'suntransit': '2024-02-08T12:20:29+01:00', 'sunset': '2024-02-08T17:04:41+01:00', 'dusk': '2024-02-08T17:40:59+01:00', 'moonrise': '2024-02-08T07:27:48+01:00', 'moontransit': '2024-02-08T10:56:38+01:00', 'moonset': '2024-02-08T14:33:01+01:00', 'moonphase': 8, 'moonzodiac': 10}}, {'date': '2024-02-09', 'dateWithTimezone': '2024-02-08T23:00:00Z', 'freshSnow': 0, 'snowHeight': None, 'weather': {'state': 6, 'text': 'Regen', 'icon': 'd_6.svg'}, 'prec': {'sum': 0, 'probability': 90, 'sumAsRain': None, 'class': 0}, 'sunHours': 1, 'rainHours': None, 'temperature': {'min': 1, 'max': 3, 'avg': None}, 'wind': {'unit': 'km/h', 'direction': 'Westwind', 'text': 'W', 'avg': None, 'min': 15, 'max': 17, 'gusts': {'value': 32, 'text': None}, 'significationWind': False}, 'windchill': {'min': -4, 'max': -1, 'avg': None}, 'snowLine': {'avg': None, 'min': None, 'max': None, 'unit': 'm'}, 'astronomy': {'dawn': '2024-02-09T06:59:04+01:00', 'sunrise': '2024-02-09T07:35:12+01:00', 'suntransit': '2024-02-09T12:20:31+01:00', 'sunset': '2024-02-09T17:06:35+01:00', 'dusk': '2024-02-09T17:42:46+01:00', 'moonrise': '2024-02-09T07:57:55+01:00', 'moontransit': '2024-02-09T11:57:48+01:00', 'moonset': '2024-02-09T16:09:37+01:00', 'moonphase': 8, 'moonzodiac': 11}}, {'date': '2024-02-10', 'dateWithTimezone': '2024-02-09T23:00:00Z', 'freshSnow': 0, 'snowHeight': None, 'weather': {'state': 2, 'text': 'wolkig', 'icon': 'd_2.svg'}, 'prec': {'sum': 0.01, 'probability': 90, 'sumAsRain': None, 'class': 0}, 'sunHours': 2, 'rainHours': None, 'temperature': {'min': -1, 'max': 8, 'avg': None}, 'wind': {'unit': 'km/h', 'direction': 'Westwind', 'text': 'W', 'avg': None, 'min': 7, 'max': 15, 'gusts': {'value': 30, 'text': None}, 'significationWind': False}, 'windchill': {'min': -6, 'max': 6, 'avg': None}, 'snowLine': {'avg': None, 'min': None, 'max': None, 'unit': 'm'}, 'astronomy': {'dawn': '2024-02-10T06:57:21+01:00', 'sunrise': '2024-02-10T07:33:21+01:00', 'suntransit': '2024-02-10T12:20:33+01:00', 'sunset': '2024-02-10T17:08:29+01:00', 'dusk': '2024-02-10T17:44:33+01:00', 'moonrise': '2024-02-10T08:18:37+01:00', 'moontransit': '2024-02-10T12:55:30+01:00', 'moonset': '2024-02-10T17:47:37+01:00', 'moonphase': 1, 'moonzodiac': 11}}, {'date': '2024-02-11', 'dateWithTimezone': '2024-02-10T23:00:00Z', 'freshSnow': 0, 'snowHeight': None, 'weather': {'state': 1, 'text': 'leicht bewölkt', 'icon': 'd_1.svg'}, 'prec': {'sum': 0.01, 'probability': 15, 'sumAsRain': None, 'class': 0}, 'sunHours': 3, 'rainHours': None, 'temperature': {'min': 4, 'max': 10, 'avg': None}, 'wind': {'unit': 'km/h', 'direction': 'Südwind', 'text': 'S', 'avg': None, 'min': 12, 'max': 18, 'gusts': {'value': None, 'text': None}, 'significationWind': False}, 'windchill': {'min': 1, 'max': 8, 'avg': None}, 'snowLine': {'avg': None, 'min': None, 'max': None, 'unit': 'm'}, 'astronomy': {'dawn': '2024-02-11T06:55:35+01:00', 'sunrise': '2024-02-11T07:31:29+01:00', 'suntransit': '2024-02-11T12:20:33+01:00', 'sunset': '2024-02-11T17:10:24+01:00', 'dusk': '2024-02-11T17:46:20+01:00', 'moonrise': '2024-02-11T08:33:59+01:00', 'moontransit': '2024-02-11T13:49:34+01:00', 'moonset': '2024-02-11T19:22:48+01:00', 'moonphase': 2, 'moonzodiac': 12}}, {'date': '2024-02-12', 'dateWithTimezone': '2024-02-11T23:00:00Z', 'freshSnow': 0, 'snowHeight': None, 'weather': {'state': 3, 'text': 'bedeckt', 'icon': 'd_3.svg'}, 'prec': {'sum': 0, 'probability': 0, 'sumAsRain': None, 'class': 0}, 'sunHours': 0, 'rainHours': None, 'temperature': {'min': 5, 'max': 8, 'avg': None}, 'wind': {'unit': 'km/h', 'direction': 'Südwestwind', 'text': 'SW', 'avg': None, 'min': 4, 'max': 9, 'gusts': {'value': None, 'text': None}, 'significationWind': False}, 'windchill': {'min': 3, 'max': 7, 'avg': None}, 'snowLine': {'avg': None, 'min': None, 'max': None, 'unit': 'm'}, 'astronomy': {'dawn': '2024-02-12T06:53:49+01:00', 'sunrise': '2024-02-12T07:29:35+01:00', 'suntransit': '2024-02-12T12:20:33+01:00', 'sunset': '2024-02-12T17:12:18+01:00', 'dusk': '2024-02-12T17:48:07+01:00', 'moonrise': '2024-02-12T08:46:37+01:00', 'moontransit': '2024-02-12T14:40:50+01:00', 'moonset': '2024-02-12T20:54:34+01:00', 'moonphase': 2, 'moonzodiac': 12}}, {'date': '2024-02-13', 'dateWithTimezone': '2024-02-12T23:00:00Z', 'freshSnow': 0, 'snowHeight': None, 'weather': {'state': 3, 'text': 'bedeckt', 'icon': 'd_3.svg'}, 'prec': {'sum': 0.07, 'probability': 20, 'sumAsRain': None, 'class': 0}, 'sunHours': 1, 'rainHours': None, 'temperature': {'min': 3, 'max': 7, 'avg': None}, 'wind': {'unit': 'km/h', 'direction': 'Westwind', 'text': 'W', 'avg': None, 'min': 6, 'max': 12, 'gusts': {'value': None, 'text': None}, 'significationWind': False}, 'windchill': {'min': 1, 'max': 5, 'avg': None}, 'snowLine': {'avg': None, 'min': None, 'max': None, 'unit': 'm'}, 'astronomy': {'dawn': '2024-02-13T06:52:00+01:00', 'sunrise': '2024-02-13T07:27:39+01:00', 'suntransit': '2024-02-13T12:20:32+01:00', 'sunset': '2024-02-13T17:14:12+01:00', 'dusk': '2024-02-13T17:49:54+01:00', 'moonrise': '2024-02-13T08:58:16+01:00', 'moontransit': '2024-02-13T15:30:35+01:00', 'moonset': '2024-02-13T22:24:02+01:00', 'moonphase': 2, 'moonzodiac': 1}}], 'forecastDate': '2024-01-31T17:05:52Z', 'nextUpdate': '2024-01-31T17:30:00Z', 'source': 'w3Data', 'point': 'global', 'fingerprint': 'Uv+BAwEBC0ZpbmdlcnByaW50Af+CAAEFAQdWZXJzaW9uAQwAAQtSZXF1ZXN0VGltZQH/hAABA0xuZwEIAAEDTGF0AQgAAQZNb2RlbHMB/4gAAAAQ/4MFAQEEVGltZQH/hAAAADb/hwIBASdbXXN0cnVjdCB7IE5hbWUgc3RyaW5nOyBSdW4gdGltZS5UaW1lIH0B/4gAAf+GAAAe/4UDAQL/hgABAgEETmFtZQEMAAEDUnVuAf+EAAAA/gF1/4IBCWRldi0yLjAuMQEPAQAAAA7dTHYuNqcwhAAAAfgZBFYOLdIqQAH43gIJih9DSkABCwEOZXhwb3NlZF9tb3NtaXgBDwEAAAAO3UxXcAAAAAAAAAABDmV4cG9zZWRfbW9zbWl4AQ8BAAAADt1LrrAAAAAAAAAAAQdpY29uX2V1AQ8BAAAADt1MLUAAAAAAAAAAAQdpY29uX2V1AQ8BAAAADt1LhIAAAAAAAAAAAQtuYW1fY29udXNfNQEPAQAAAA7dS4SAAAAAAAAAAAELbmFtX2NvbnVzXzUBDwEAAAAO3UrbwAAAAAAAAAABBm1vc21peAEPAQAAAA7dTFdwAAAAAAAAAAEGbW9zbWl4AQ8BAAAADt1LrrAAAAAAAAAAAQlnZnNfc2ZsdXgBDwEAAAAO3UuEgAAAAAAAAAABCWdmc19zZmx1eAEPAQAAAA7dStvAAAAAAAAAAAEGYXdlX2RlAQ8BAAAADt1LytAAAAAAAAAAAA=='}}\n"
     ]
    }
   ],
   "source": [
    "import requests\n",
    "\n",
    "url = \"https://forecast9.p.rapidapi.com/rapidapi/forecast/Berlin/summary/\"\n",
    "\n",
    "headers = {\n",
    "\t\"X-RapidAPI-Key\": \"a9897a5f8bmsheaa2e2f25651945p1db232jsn01749d50fb71\",\n",
    "\t\"X-RapidAPI-Host\": \"forecast9.p.rapidapi.com\"\n",
    "}\n",
    "\n",
    "response = requests.get(url, headers=headers)\n",
    "\n",
    "print(response.json())"
   ]
  },
  {
   "cell_type": "markdown",
   "id": "a08a4467",
   "metadata": {},
   "source": [
    "## TASK C"
   ]
  },
  {
   "cell_type": "code",
   "execution_count": 27,
   "id": "2866c72b",
   "metadata": {},
   "outputs": [],
   "source": [
    "import requests\n",
    "from bs4 import BeautifulSoup\n",
    "import pandas as pd\n",
    "import numpy as np"
   ]
  },
  {
   "cell_type": "code",
   "execution_count": 31,
   "id": "1bd798f3",
   "metadata": {},
   "outputs": [
    {
     "name": "stdout",
     "output_type": "stream",
     "text": [
      "                                      Product Name   Prices  \\\n",
      "0         OPPO Reno8 Pro 5G (Glazed Green, 256 GB)  ₹52,999   \n",
      "1      OPPO Reno7 Pro 5G (Starlight Black, 256 GB)  ₹47,990   \n",
      "2                Apple iPhone 8 Plus (Gold, 64 GB)  ₹49,900   \n",
      "3    Tecno Phantom V Flip 5G (Mystic Dawn, 256 GB)  ₹54,899   \n",
      "4      OPPO Reno7 Pro 5G (Startrails Blue, 256 GB)  ₹47,990   \n",
      "..                                             ...      ...   \n",
      "187         Infinix SMART 8 HD (Shiny Gold, 64 GB)   ₹6,299   \n",
      "188       Infinix SMART 8 HD (Timber Black, 64 GB)   ₹6,299   \n",
      "189                  POCO C51 (Royal Blue, 128 GB)   ₹6,499   \n",
      "190       Infinix SMART 8 HD (Galaxy White, 64 GB)   ₹6,299   \n",
      "191    REDMI Note 13 Pro 5G (Coral Purple, 128 GB)  ₹25,999   \n",
      "\n",
      "                                           Description Reviews  \n",
      "0    12 GB RAM | 256 GB ROM17.02 cm (6.7 inch) Full...     4.4  \n",
      "1    12 GB RAM | 256 GB ROM16.51 cm (6.5 inch) Full...     4.3  \n",
      "2    64 GB ROM13.97 cm (5.5 inch) Retina HD Display...     4.6  \n",
      "3    8 GB RAM | 256 GB ROM17.53 cm (6.9 inch) Displ...       4  \n",
      "4    12 GB RAM | 256 GB ROM | Expandable Upto 7 GB1...     4.3  \n",
      "..                                                 ...     ...  \n",
      "187  3 GB RAM | 64 GB ROM | Expandable Upto 2 TB16....     4.3  \n",
      "188  3 GB RAM | 64 GB ROM | Expandable Upto 2 TB16....     4.3  \n",
      "189  6 GB RAM | 128 GB ROM | Expandable Upto 1 TB16...     4.1  \n",
      "190  3 GB RAM | 64 GB ROM | Expandable Upto 2 TB16....     4.3  \n",
      "191  8 GB RAM | 128 GB ROM16.94 cm (6.67 inch) Disp...     4.3  \n",
      "\n",
      "[192 rows x 4 columns]\n"
     ]
    }
   ],
   "source": [
    "Product_name = []\n",
    "Prices = []\n",
    "Description = []\n",
    "Reviews = []\n",
    "\n",
    "for i in range(2,10):\n",
    "    url = \"https://www.flipkart.com/search?q=mobiles+under+50000&otracker=search&otracker1=search&marketplace=FLIPKART&as-show=off&as=off&page=\"+str(i)\n",
    "\n",
    "    r = requests.get(url)\n",
    "    #print(r)\n",
    "\n",
    "    soup = BeautifulSoup(r.text, \"lxml\")\n",
    "    box = soup.find(\"div\", class_ = \"_1YokD2 _3Mn1Gg\") \n",
    "    \n",
    "    names = box.find_all(\"div\", class_ = \"_4rR01T\")\n",
    "\n",
    "    for i in names:\n",
    "        name = i.text\n",
    "        Product_name.append(name)\n",
    "    \n",
    "    #print(Product_name)\n",
    "    \n",
    "    prices = box.find_all(\"div\", class_ = \"_30jeq3 _1_WHN1\")\n",
    "\n",
    "    for i in prices:\n",
    "        name = i.text\n",
    "        Prices.append(name)\n",
    "    \n",
    "    #print(Prices)    \n",
    "\n",
    "    desc = box.find_all(\"ul\", class_ = \"_1xgFaf\")\n",
    "\n",
    "    for i in desc:\n",
    "        name = i.text\n",
    "        Description.append(name)\n",
    "    \n",
    "    #print(Description)\n",
    "\n",
    "    reviews = box.find_all(\"div\", class_ = \"_3LWZlK\")\n",
    "\n",
    "    for i in reviews:\n",
    "        name = i.text\n",
    "        Reviews.append(name)\n",
    "    \n",
    "#print(Reviews)    \n",
    "\n",
    "df = pd.DataFrame({\"Product Name\":Product_name, \"Prices\":Prices, \"Description\":Description, \"Reviews\":Reviews})\n",
    "print(df)\n"
   ]
  }
 ],
 "metadata": {
  "kernelspec": {
   "display_name": "Python 3 (ipykernel)",
   "language": "python",
   "name": "python3"
  },
  "language_info": {
   "codemirror_mode": {
    "name": "ipython",
    "version": 3
   },
   "file_extension": ".py",
   "mimetype": "text/x-python",
   "name": "python",
   "nbconvert_exporter": "python",
   "pygments_lexer": "ipython3",
   "version": "3.9.7"
  }
 },
 "nbformat": 4,
 "nbformat_minor": 5
}
