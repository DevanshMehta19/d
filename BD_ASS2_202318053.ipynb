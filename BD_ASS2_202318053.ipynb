{
 "cells": [
  {
   "cell_type": "markdown",
   "metadata": {
    "id": "jQsvqBDlAM09"
   },
   "source": [
    "# NAME- DEVANSH MEHTA\n",
    "# ID- 202318053\n",
    "## BD ASSIGNMENT 2"
   ]
  },
  {
   "cell_type": "code",
   "execution_count": 15,
   "metadata": {
    "colab": {
     "base_uri": "https://localhost:8080/"
    },
    "executionInfo": {
     "elapsed": 5995,
     "status": "ok",
     "timestamp": 1706158910205,
     "user": {
      "displayName": "2023 18053",
      "userId": "13675432731376949025"
     },
     "user_tz": -330
    },
    "id": "caBkORrz_p_o",
    "outputId": "9bd3548d-712a-4044-a906-a19b1059809f"
   },
   "outputs": [
    {
     "name": "stdout",
     "output_type": "stream",
     "text": [
      "TF-IDF Vector for the first document:\n",
      "   (0, 104898)\t0.09099131261520779\n",
      "  (0, 56276)\t0.07202357025042742\n",
      "  (0, 53378)\t0.08767230645040018\n",
      "  (0, 75863)\t0.09371653062052683\n",
      "  (0, 67564)\t0.11145713345321466\n",
      "  (0, 44922)\t0.12577534457806938\n",
      "  (0, 68851)\t0.1092006298542087\n",
      "  (0, 97803)\t0.15297271270554927\n",
      "  (0, 29793)\t0.09780721924683468\n",
      "  (0, 56290)\t0.07843644201287821\n",
      "  (0, 40109)\t0.07613723261670416\n",
      "  (0, 74388)\t0.062046602055631644\n",
      "  (0, 32124)\t0.13990682811300392\n",
      "  (0, 94931)\t0.10206948348972072\n",
      "  (0, 126234)\t0.08827374626270035\n",
      "  (0, 55396)\t0.18726449555550737\n",
      "  (0, 54152)\t0.13026537600782995\n",
      "  (0, 75880)\t0.12911770816787374\n",
      "  (0, 112195)\t0.10112668343858253\n",
      "  (0, 107238)\t0.17317076851207772\n",
      "  (0, 101780)\t0.18085122753842672\n",
      "  (0, 30409)\t0.060522273577808205\n",
      "  (0, 108636)\t0.09485226943510211\n",
      "  (0, 69968)\t0.04274970490915971\n",
      "  (0, 68455)\t0.2504424800413143\n",
      "  :\t:\n",
      "  (0, 128055)\t0.08928292219792791\n",
      "  (0, 71591)\t0.09265233995972895\n",
      "  (0, 78556)\t0.07276517392561627\n",
      "  (0, 96097)\t0.12049662631428242\n",
      "  (0, 102024)\t0.11074799409328427\n",
      "  (0, 94627)\t0.16468598159934733\n",
      "  (0, 87611)\t0.06920597967725499\n",
      "  (0, 49321)\t0.06712121458727056\n",
      "  (0, 57968)\t0.12038735575650049\n",
      "  (0, 102029)\t0.1386545015806946\n",
      "  (0, 98019)\t0.14434043653560286\n",
      "  (0, 30989)\t0.19665133447802502\n",
      "  (0, 22942)\t0.06408405762067351\n",
      "  (0, 44206)\t0.2179814114534937\n",
      "  (0, 79103)\t0.10778314392245743\n",
      "  (0, 101186)\t0.08566880403164369\n",
      "  (0, 95813)\t0.09281176260386756\n",
      "  (0, 71631)\t0.06991398702519772\n",
      "  (0, 73308)\t0.08889738437436691\n",
      "  (0, 38965)\t0.1022085680192694\n",
      "  (0, 96571)\t0.07138060832310952\n",
      "  (0, 52286)\t0.09531025613681769\n",
      "  (0, 93336)\t0.548142336308362\n",
      "  (0, 29416)\t0.14434043653560286\n",
      "  (0, 113931)\t0.0602053040740619\n"
     ]
    }
   ],
   "source": [
    "from sklearn.datasets import fetch_20newsgroups\n",
    "from sklearn.feature_extraction.text import TfidfVectorizer\n",
    "\n",
    "# Load and vectorize the 20 newsgroups dataset\n",
    "tfidf_matrix = TfidfVectorizer(stop_words='english').fit_transform(fetch_20newsgroups(subset='all', remove=('headers', 'footers', 'quotes')).data)\n",
    "\n",
    "# Example: Print the TF-IDF vector for the first document\n",
    "print(\"TF-IDF Vector for the first document:\\n\", tfidf_matrix[0])\n"
   ]
  },
  {
   "cell_type": "code",
   "execution_count": 13,
   "metadata": {
    "colab": {
     "base_uri": "https://localhost:8080/"
    },
    "executionInfo": {
     "elapsed": 484,
     "status": "ok",
     "timestamp": 1706158747945,
     "user": {
      "displayName": "2023 18053",
      "userId": "13675432731376949025"
     },
     "user_tz": -330
    },
    "id": "CzkiosFS-Ry1",
    "outputId": "64136799-cf49-432a-eff5-f9577ae64e44"
   },
   "outputs": [
    {
     "name": "stdout",
     "output_type": "stream",
     "text": [
      "Cosine Similarity: 0.9649505047327671\n"
     ]
    }
   ],
   "source": [
    "from sklearn.metrics.pairwise import cosine_similarity\n",
    "\n",
    "# Sample TF-IDF vectors (replace these with actual vectors)\n",
    "vector1 = [[1, 2, 3, 4, 5]]\n",
    "vector2 = [[6, 7, 8, 9, 10]]\n",
    "\n",
    "# Function to calculate cosine similarity between two TF-IDF vectors\n",
    "cosine_similarity_value = cosine_similarity(vector1, vector2)[0][0]\n",
    "\n",
    "# Example usage\n",
    "print(\"Cosine Similarity:\", cosine_similarity_value)\n"
   ]
  },
  {
   "cell_type": "code",
   "execution_count": 14,
   "metadata": {
    "colab": {
     "base_uri": "https://localhost:8080/"
    },
    "executionInfo": {
     "elapsed": 2941,
     "status": "ok",
     "timestamp": 1706158851663,
     "user": {
      "displayName": "2023 18053",
      "userId": "13675432731376949025"
     },
     "user_tz": -330
    },
    "id": "DdmihVqz_exJ",
    "outputId": "44c4f840-81fa-47b0-e1aa-a98375f91844"
   },
   "outputs": [
    {
     "name": "stdout",
     "output_type": "stream",
     "text": [
      "User Input: I enjoy coding with Python.\n",
      "Similar Document: I love programming in Python.\n"
     ]
    }
   ],
   "source": [
    "from sklearn.datasets import fetch_20newsgroups\n",
    "from sklearn.feature_extraction.text import TfidfVectorizer\n",
    "from sklearn.metrics.pairwise import cosine_similarity\n",
    "\n",
    "# Load 20 newsgroups dataset\n",
    "documents = fetch_20newsgroups(subset='all', remove=('headers', 'footers', 'quotes')).data\n",
    "\n",
    "# Example documents\n",
    "documents = [\n",
    "    \"I love programming in Python.\",\n",
    "    \"Machine learning is fascinating.\",\n",
    "    \"Python vs Java: A comparison.\",\n",
    "]\n",
    "\n",
    "# TF-IDF Vectorizer\n",
    "vectorizer = TfidfVectorizer()\n",
    "tfidf_matrix = vectorizer.fit_transform(documents)\n",
    "\n",
    "# Document Similarity Search\n",
    "def find_similar_documents(input_doc):\n",
    "    input_vector = vectorizer.transform([input_doc])\n",
    "    similarity_scores = cosine_similarity(tfidf_matrix, input_vector).flatten()\n",
    "    similar_doc_index = similarity_scores.argsort()[-2]\n",
    "\n",
    "    return documents[similar_doc_index]\n",
    "\n",
    "# Example Usage\n",
    "user_input = \"I enjoy coding with Python.\"\n",
    "\n",
    "# Find and display the most similar document\n",
    "similar_document = find_similar_documents(user_input)\n",
    "print(f\"User Input: {user_input}\")\n",
    "print(f\"Similar Document: {similar_document}\")\n"
   ]
  }
 ],
 "metadata": {
  "colab": {
   "authorship_tag": "ABX9TyOUEVg5pfhoIUKAwQeegYFU",
   "provenance": []
  },
  "kernelspec": {
   "display_name": "Python 3 (ipykernel)",
   "language": "python",
   "name": "python3"
  },
  "language_info": {
   "codemirror_mode": {
    "name": "ipython",
    "version": 3
   },
   "file_extension": ".py",
   "mimetype": "text/x-python",
   "name": "python",
   "nbconvert_exporter": "python",
   "pygments_lexer": "ipython3",
   "version": "3.10.9"
  }
 },
 "nbformat": 4,
 "nbformat_minor": 1
}
